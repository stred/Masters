{
 "cells": [
  {
   "cell_type": "code",
   "execution_count": null,
   "metadata": {
    "collapsed": true
   },
   "outputs": [],
   "source": [
    "\n",
    "### Export Graph data to Neo4j\n",
    "\n",
    "# Get the nodes from the Graph\n",
    "tmp = Gr.nodes(data=True) # [\"id\", \"data\"])\n",
    "\n",
    "# Setup the paths, etc.\n",
    "filename1 = _path_to_output + '\\\\files.csv'\n",
    "filename2 = _path_to_output + '\\\\terms.csv'\n",
    "myfile1 = open(filename1, 'w')\n",
    "myfile2 = open(filename2, 'w')\n",
    "\n",
    "# Write the headers\n",
    "myfile1.write(\"nodeId:ID(file),title,x:float,y:float,:LABEL\\n\")\n",
    "myfile2.write(\"nodeId:ID(term),title,x:float,y:float,:LABEL\\n\")\n",
    "\n",
    "# Loop through nodes and write files to myFile1 and terms to myFile2\n",
    "for n in tmp:\n",
    "    \n",
    "    if n[1].get(\"type\") == \"file\":\n",
    "        myfile1.write(n[0].replace('\\\\', '/') + ',' + n[1].get(\"label\") + ' ' + left(right(n[0],7),3) + ',' + str(n[1].get(\"x\")) + ',' + str(n[1].get(\"y\")) + ',' )\n",
    "        if \"label\" in n[1]:\n",
    "            myfile1.write(n[1].get(\"label\") + ';')\n",
    "        myfile1.write(n[1].get('type') + '\\n')\n",
    "    else:\n",
    "        myfile2.write(n[0].replace('\\\\', '/') + ',' + n[0].replace('\\\\', '/') + ',' + str(n[1].get(\"x\")) + ',' + str(n[1].get(\"y\")) + ',' + n[1].get(\"type\"))\n",
    "        if \"label\" in n[1]:\n",
    "            myfile2.write(';' + n[1].get(\"label\"))\n",
    "        myfile2.write('\\n')\n",
    "        \n",
    "myfile1.close()\n",
    "myfile2.close()\n",
    "\n",
    "# Get the edges from the graph\n",
    "tmp = Gr.edges(data=True) # [\"id\", \"data\"])\n",
    "\n",
    "# Open a file to write\n",
    "filename = _path_to_output + '\\\\edges.csv'\n",
    "myfile = open(filename, 'w')\n",
    "\n",
    "# Write header\n",
    "myfile.write(\":START_ID(file),:END_ID(term),:TYPE,weight:float\\n\")\n",
    "\n",
    "# Loop through edges and write out relationship info\n",
    "for n in tmp:\n",
    "    node1 = n[0]\n",
    "    node2 = n[1]\n",
    "    if node2.find('\\\\')>-1 or node2.find('/')>-1:\n",
    "        node2 = n[0]\n",
    "        node1 = n[1]\n",
    "    \n",
    "    myfile.write(node1.replace('\\\\', '/') + ',' + node2 + ',HAS_TERM,' + str(n[2].get(\"weight\")) + '\\n')\n",
    "    \n",
    "myfile.close()\n",
    "\n",
    "print(\"Done\")\n",
    "\n",
    "#### Import with:\n",
    "## Neo4j-Import.bat --into \"C:\\Users\\Stephen\\Documents\\Neo4j\\Name_of_graph\" --nodes \"C:\\path_to_files\\files.csv\" --nodes \"C:\\path_to_files\\terms.csv\" --relationships \"C:\\path_to_files\\edges.csv\" --id-type STRING --bad-tolerance 100000\n",
    "\n"
   ]
  }
 ],
 "metadata": {
  "kernelspec": {
   "display_name": "Python 3",
   "language": "python",
   "name": "python3"
  },
  "language_info": {
   "codemirror_mode": {
    "name": "ipython",
    "version": 3
   },
   "file_extension": ".py",
   "mimetype": "text/x-python",
   "name": "python",
   "nbconvert_exporter": "python",
   "pygments_lexer": "ipython3",
   "version": "3.5.2"
  }
 },
 "nbformat": 4,
 "nbformat_minor": 0
}
