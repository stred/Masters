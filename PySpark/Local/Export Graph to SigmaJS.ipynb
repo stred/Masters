{
 "cells": [
  {
   "cell_type": "code",
   "execution_count": null,
   "metadata": {
    "collapsed": true
   },
   "outputs": [],
   "source": [
    "\n",
    "\n",
    "### Export Graph data to Sigma.js\n",
    "\n",
    "# Get the nodes from the Graph\n",
    "tmp = Gr.nodes(data=True) # [\"id\", \"data\"])\n",
    "\n",
    "# Setup the paths, etc.\n",
    "filename1 = _path_to_output + '\\\\sigma.json'\n",
    "myfile = open(filename1, 'w')\n",
    "\n",
    "# Write the headers\n",
    "myfile.write('{ \\n\"nodes\": [ \\n')\n",
    "\n",
    "\n",
    "# Loop through nodes and write files to myFile1 and terms to myFile2\n",
    "for n in tmp:\n",
    "    json = \"\"\n",
    "    if n[1].get(\"type\") == \"file\":\n",
    "        json += '{ \"id\": \"' + n[0].replace('\\\\', '/') + '\", '\n",
    "        json += '\"label\": \"' + n[0].replace('\\\\', '/') + '\", '\n",
    "        json += '\"x\": \"' + str(n[1].get(\"x\")+1000) + '\", '\n",
    "        json += '\"y\": \"' + str(n[1].get(\"y\")+300) + '\", '\n",
    "        json += '\"size\": \"1\", \"color\": \"#00a1f1\" }, \\n'\n",
    "        myfile.write(json)\n",
    "    else:\n",
    "        json += '{ \"id\": \"' + n[0].replace('\\\\', '/') + '\", '\n",
    "        json += '\"label\": \"' + n[0].replace('\\\\', '/') + '\", '\n",
    "        json += '\"x\": \"' + str(n[1].get(\"x\")) + '\", '\n",
    "        json += '\"y\": \"' + str(n[1].get(\"y\")) + '\", '\n",
    "        json += '\"size\": \"1\", \"color\": \"#c1c1c1\" }, '\n",
    "        myfile.write(json)\n",
    "        \n",
    "myfile.write('{} ], \\n')\n",
    "    \n",
    "    \n",
    "# Get the edges from the graph\n",
    "tmp = Gr.edges(data=True) # [\"id\", \"data\"])\n",
    "id = 0\n",
    "\n",
    "# Write header\n",
    "myfile.write('  \"edges\": [ \\n')\n",
    "\n",
    "# Loop through edges and write out relationship info\n",
    "for n in tmp:\n",
    "    id += 1\n",
    "    \n",
    "    node1 = n[0].replace('\\\\', '/')\n",
    "    node2 = n[1].replace('\\\\', '/')\n",
    "    if node2.find('\\\\')>-1 or node2.find('/')>-1:\n",
    "        node2 = n[0].replace('\\\\', '/')\n",
    "        node1 = n[1].replace('\\\\', '/')\n",
    "    \n",
    "    myfile.write('{ \"id\": \"' + str(id) + '\", \"source\": \"' + node1 + '\", \"target\": \"' + node2 + '\", \"size\": \"0.5\" }, \\n')\n",
    "    \n",
    "myfile.write('{} ] } ')\n",
    "myfile.close()\n",
    "\n",
    "print(\"Done\")\n",
    "\n",
    "\n"
   ]
  }
 ],
 "metadata": {
  "kernelspec": {
   "display_name": "Python 3",
   "language": "python",
   "name": "python3"
  },
  "language_info": {
   "codemirror_mode": {
    "name": "ipython",
    "version": 3
   },
   "file_extension": ".py",
   "mimetype": "text/x-python",
   "name": "python",
   "nbconvert_exporter": "python",
   "pygments_lexer": "ipython3",
   "version": "3.5.2"
  }
 },
 "nbformat": 4,
 "nbformat_minor": 0
}
