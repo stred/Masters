{
 "cells": [
  {
   "cell_type": "code",
   "execution_count": 31,
   "metadata": {
    "collapsed": false
   },
   "outputs": [],
   "source": [
    "\n",
    "# File libraries\n",
    "import os\n",
    "import glob2\n",
    "from pathlib import Path\n",
    "\n",
    "import random\n"
   ]
  },
  {
   "cell_type": "code",
   "execution_count": 42,
   "metadata": {
    "collapsed": false
   },
   "outputs": [
    {
     "name": "stdout",
     "output_type": "stream",
     "text": [
      "Done!\n"
     ]
    }
   ],
   "source": [
    "_in_path = 'C:\\\\BBC_Data\\\\bbc-fulltext\\\\TrainTest\\\\10Train'\n",
    "# Empty sub-folders need to exist in the _out_path!\n",
    "_out_path = 'C:\\\\BBC_Data\\\\bbc-fulltext\\\\TrainTest\\\\10Test'\n",
    "_in = _in_path\n",
    "\n",
    "\n",
    "# If this is a folder, we need to append ** for glob\n",
    "if(os.path.isdir(_in_path)==True):\n",
    "    _in_path+=\"\\\\**\"\n",
    "\n",
    "f_list = glob2.glob(_in_path)\n",
    "rVal = []\n",
    "\n",
    "# Get all the (files - one file at a time)\n",
    "for f in f_list:\n",
    "    if os.path.isfile(f):\n",
    "        # Change here if you want something other than 30% test\n",
    "        if random.random() < .3:\n",
    "            # Calculate the new filepath\n",
    "            f2 = f.replace(_in, _out_path)\n",
    "            # Move the file\n",
    "            os.rename(f, f2)\n",
    "\n",
    "print(\"Done!\")"
   ]
  },
  {
   "cell_type": "code",
   "execution_count": null,
   "metadata": {
    "collapsed": true
   },
   "outputs": [],
   "source": []
  },
  {
   "cell_type": "code",
   "execution_count": null,
   "metadata": {
    "collapsed": true
   },
   "outputs": [],
   "source": []
  }
 ],
 "metadata": {
  "kernelspec": {
   "display_name": "Python 3",
   "language": "python",
   "name": "python3"
  },
  "language_info": {
   "codemirror_mode": {
    "name": "ipython",
    "version": 3
   },
   "file_extension": ".py",
   "mimetype": "text/x-python",
   "name": "python",
   "nbconvert_exporter": "python",
   "pygments_lexer": "ipython3",
   "version": "3.5.2"
  }
 },
 "nbformat": 4,
 "nbformat_minor": 0
}
